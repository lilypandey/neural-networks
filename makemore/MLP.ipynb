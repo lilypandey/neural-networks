{
 "cells": [
  {
   "cell_type": "code",
   "execution_count": 1,
   "id": "e2c7dc3f-1235-4b60-97e7-23b363a3b67b",
   "metadata": {},
   "outputs": [],
   "source": [
    "import torch\n",
    "import torch.nn.functional as F\n",
    "import matplotlib.pyplot as plt\n",
    "%matplotlib inline"
   ]
  },
  {
   "cell_type": "code",
   "execution_count": 2,
   "id": "22ed5b6c-69e1-47c6-bcf7-31521448cd27",
   "metadata": {},
   "outputs": [],
   "source": [
    "words = open('names.txt','r').read().splitlines()"
   ]
  },
  {
   "cell_type": "code",
   "execution_count": 3,
   "id": "ec458ed0-b9df-4293-bc48-8078caa5de52",
   "metadata": {},
   "outputs": [
    {
     "data": {
      "text/plain": [
       "{1: 'a',\n",
       " 2: 'b',\n",
       " 3: 'c',\n",
       " 4: 'd',\n",
       " 5: 'e',\n",
       " 6: 'f',\n",
       " 7: 'g',\n",
       " 8: 'h',\n",
       " 9: 'i',\n",
       " 10: 'j',\n",
       " 11: 'k',\n",
       " 12: 'l',\n",
       " 13: 'm',\n",
       " 14: 'n',\n",
       " 15: 'o',\n",
       " 16: 'p',\n",
       " 17: 'q',\n",
       " 18: 'r',\n",
       " 19: 's',\n",
       " 20: 't',\n",
       " 21: 'u',\n",
       " 22: 'v',\n",
       " 23: 'w',\n",
       " 24: 'x',\n",
       " 25: 'y',\n",
       " 26: 'z',\n",
       " 0: '.'}"
      ]
     },
     "execution_count": 3,
     "metadata": {},
     "output_type": "execute_result"
    }
   ],
   "source": [
    "chars = sorted(list(set(''.join(words))))\n",
    "stoi ={s:i+1 for i, s in enumerate(chars)}\n",
    "stoi['.'] = 0\n",
    "itos={i:s for s,i in stoi.items()}\n",
    "itos"
   ]
  },
  {
   "cell_type": "code",
   "execution_count": 4,
   "id": "75330d96-9962-413d-833c-81eed1aa0af2",
   "metadata": {},
   "outputs": [],
   "source": [
    "block_size = 3\n",
    "X,Y = [], []\n",
    "\n",
    "for w in words:\n",
    "    context = [0] * block_size\n",
    "    for ch in w + '.':\n",
    "        ix  = stoi[ch]\n",
    "        X.append(context)\n",
    "        Y.append(ix)\n",
    "        #print(''.join(itos[i] for i in context), '----->' , itos[ix])\n",
    "        context = context[1:] + [ix]\n",
    "\n",
    "X = torch.tensor(X)\n",
    "Y  = torch.tensor(Y)"
   ]
  },
  {
   "cell_type": "code",
   "execution_count": 5,
   "id": "89c35ebe-9a19-42db-b634-a73248b3c280",
   "metadata": {},
   "outputs": [
    {
     "data": {
      "text/plain": [
       "(torch.Size([228146, 3]), torch.int64, torch.Size([228146]), torch.int64)"
      ]
     },
     "execution_count": 5,
     "metadata": {},
     "output_type": "execute_result"
    }
   ],
   "source": [
    "X.shape, X.dtype, Y.shape,Y.dtype"
   ]
  },
  {
   "cell_type": "code",
   "execution_count": 6,
   "id": "be89ec48-4ad5-414e-b237-15ad5a45aa4f",
   "metadata": {},
   "outputs": [
    {
     "name": "stdout",
     "output_type": "stream",
     "text": [
      "torch.Size([182625, 3]) torch.Size([182625])\n",
      "torch.Size([22655, 3]) torch.Size([22655])\n",
      "torch.Size([22866, 3]) torch.Size([22866])\n"
     ]
    }
   ],
   "source": [
    "def build_dataset(words):\n",
    "    block_size = 3\n",
    "    X, Y = [], []\n",
    "    for w in words:\n",
    "        context  = [0] * block_size\n",
    "        for ch in w + '.':\n",
    "            ix = stoi[ch]\n",
    "            X.append(context)\n",
    "            Y.append(ix)\n",
    "            context = context[1:] + [ix]\n",
    "    X = torch.tensor(X)\n",
    "    Y = torch.tensor(Y)\n",
    "    print(X.shape, Y.shape)\n",
    "    return X, Y\n",
    "\n",
    "import random\n",
    "random.seed(42)\n",
    "random.shuffle(words)\n",
    "n1 = int(0.8*len(words))\n",
    "n2 = int(0.9*len(words))\n",
    "Xtr, Ytr = build_dataset(words[:n1])\n",
    "Xval, Yval = build_dataset(words[n1:n2])\n",
    "Xte, Yte = build_dataset(words[n2:])"
   ]
  },
  {
   "cell_type": "code",
   "execution_count": 7,
   "id": "3d3223b2-eb3f-4b79-aafc-4c2d04d87c64",
   "metadata": {},
   "outputs": [],
   "source": [
    "#X"
   ]
  },
  {
   "cell_type": "code",
   "execution_count": 8,
   "id": "b22e59b4-b9ed-40d3-a85c-421dce69e1ac",
   "metadata": {},
   "outputs": [],
   "source": [
    "#Y"
   ]
  },
  {
   "cell_type": "code",
   "execution_count": 9,
   "id": "ef4560ba-90d8-4997-b637-660c0b773c74",
   "metadata": {},
   "outputs": [],
   "source": [
    "C = torch.randn((27,2))"
   ]
  },
  {
   "cell_type": "code",
   "execution_count": 24,
   "id": "15a1b807-99fc-4aea-9367-1e9ce8b58bda",
   "metadata": {},
   "outputs": [
    {
     "data": {
      "text/plain": [
       "tensor([[-0.6247, -1.4337],\n",
       "        [ 1.2554,  0.4270],\n",
       "        [ 1.9275,  1.0294],\n",
       "        [ 0.5128,  0.2821],\n",
       "        [ 1.8068, -1.5228],\n",
       "        [ 0.8890, -0.1867],\n",
       "        [ 0.5973, -1.8393],\n",
       "        [-1.2193,  0.6714],\n",
       "        [ 0.9227, -0.9124],\n",
       "        [-0.6973, -0.5756],\n",
       "        [-0.4196,  0.2736],\n",
       "        [ 0.2798,  1.3262],\n",
       "        [ 0.8209,  0.8469],\n",
       "        [ 1.0980, -0.7150],\n",
       "        [-0.1347, -0.6124],\n",
       "        [ 0.2730, -0.0810],\n",
       "        [-1.4019,  0.9087],\n",
       "        [ 1.4741,  2.8612],\n",
       "        [ 0.0187, -0.0227],\n",
       "        [-1.3198, -0.4906],\n",
       "        [-0.5577, -1.5091],\n",
       "        [-0.6406, -0.0955],\n",
       "        [ 0.6430, -0.5927],\n",
       "        [ 0.4914,  0.2948],\n",
       "        [ 0.0581,  0.6684],\n",
       "        [ 0.6426, -0.5713],\n",
       "        [ 0.0164, -0.4900]])"
      ]
     },
     "execution_count": 24,
     "metadata": {},
     "output_type": "execute_result"
    }
   ],
   "source": [
    "C"
   ]
  },
  {
   "cell_type": "code",
   "execution_count": 11,
   "id": "344bf037-53fd-4b25-b4b0-c57c244245c1",
   "metadata": {},
   "outputs": [
    {
     "data": {
      "text/plain": [
       "tensor([ 0.8890, -0.1867])"
      ]
     },
     "execution_count": 11,
     "metadata": {},
     "output_type": "execute_result"
    }
   ],
   "source": [
    "C[5]"
   ]
  },
  {
   "cell_type": "code",
   "execution_count": 12,
   "id": "df23b835-10d0-49ef-8dea-0944f9f6c8d1",
   "metadata": {},
   "outputs": [
    {
     "data": {
      "text/plain": [
       "tensor([ 0.8890, -0.1867])"
      ]
     },
     "execution_count": 12,
     "metadata": {},
     "output_type": "execute_result"
    }
   ],
   "source": [
    "F.one_hot(torch.tensor(5),num_classes=27).float() @ C"
   ]
  },
  {
   "cell_type": "code",
   "execution_count": 13,
   "id": "982b505d-c0b7-4c1d-b1e6-240698c24fad",
   "metadata": {},
   "outputs": [],
   "source": [
    "#C[X]"
   ]
  },
  {
   "cell_type": "code",
   "execution_count": 14,
   "id": "fd649513-80fe-4823-afd2-0eed7122b019",
   "metadata": {},
   "outputs": [
    {
     "data": {
      "text/plain": [
       "tensor(1)"
      ]
     },
     "execution_count": 14,
     "metadata": {},
     "output_type": "execute_result"
    }
   ],
   "source": [
    "X[13,2]"
   ]
  },
  {
   "cell_type": "code",
   "execution_count": 30,
   "id": "91fd237e-6b1a-47f3-acfc-e8872a3159d2",
   "metadata": {},
   "outputs": [
    {
     "data": {
      "text/plain": [
       "torch.Size([228146, 3, 2])"
      ]
     },
     "execution_count": 30,
     "metadata": {},
     "output_type": "execute_result"
    }
   ],
   "source": [
    "a=C[X].shape\n",
    "a"
   ]
  },
  {
   "cell_type": "code",
   "execution_count": 16,
   "id": "1adc1627-137c-4107-b916-a00da8a968c4",
   "metadata": {},
   "outputs": [
    {
     "data": {
      "text/plain": [
       "tensor([1.2554, 0.4270])"
      ]
     },
     "execution_count": 16,
     "metadata": {},
     "output_type": "execute_result"
    }
   ],
   "source": [
    "C[1]"
   ]
  },
  {
   "cell_type": "code",
   "execution_count": 17,
   "id": "e74062ac-3199-49aa-8bf1-9bc26436ee0c",
   "metadata": {},
   "outputs": [],
   "source": [
    "emb=C[X]"
   ]
  },
  {
   "cell_type": "code",
   "execution_count": 18,
   "id": "27a84ed5-e8c4-4733-a855-ef847cf87b4d",
   "metadata": {},
   "outputs": [
    {
     "data": {
      "text/plain": [
       "tensor([[ 3.2333e-01,  1.6349e-01,  1.0882e+00,  1.5283e+00,  1.1883e+00,\n",
       "          9.2652e-01, -3.1737e-02,  3.1105e-01, -4.8762e-02,  7.9918e-01,\n",
       "         -1.4549e+00,  7.1977e-02, -2.1048e+00,  3.5405e-01, -3.5821e-01,\n",
       "          4.5237e-01,  4.7035e-01, -6.8253e-01, -1.8418e+00,  1.4649e+00,\n",
       "          7.0031e-01, -9.7501e-01, -8.6387e-01, -4.8401e-01, -5.5220e-01,\n",
       "          7.2243e-01,  2.6670e+00, -2.4989e-01, -1.0970e+00,  7.6159e-01,\n",
       "         -1.0632e+00,  1.9120e+00, -4.5037e-02, -9.1524e-01,  5.4986e-02,\n",
       "         -8.5425e-01, -7.9871e-01, -1.0340e+00, -3.3250e-02, -3.4396e-02,\n",
       "         -6.3824e-01, -7.0875e-01, -1.6414e-02,  5.2081e-02, -1.5902e+00,\n",
       "         -7.4446e-01,  2.1019e+00,  9.6181e-02, -6.7584e-01,  3.9109e-01,\n",
       "         -5.5917e-01,  5.5260e-01,  4.8988e-01,  1.3720e+00,  8.9829e-01,\n",
       "          1.0039e+00,  8.9688e-01,  9.2171e-01, -5.9730e-01, -1.7275e+00,\n",
       "          5.8421e-01,  5.1192e-01, -1.3078e+00, -7.3651e-02,  3.4459e-01,\n",
       "         -1.5079e+00, -5.6566e-01, -7.8538e-04,  4.7461e-02,  3.1406e-01,\n",
       "         -7.5821e-01,  3.3611e-01, -9.4409e-01,  6.8989e-01,  1.2598e+00,\n",
       "         -1.0031e+00, -7.1570e-01, -8.1132e-01,  1.9604e+00, -1.3057e+00,\n",
       "          1.1118e+00,  2.6010e+00, -1.3375e+00, -8.0796e-03,  1.6678e-01,\n",
       "         -7.3011e-01,  6.7829e-01, -3.3102e+00,  1.5838e-01, -1.3213e+00,\n",
       "          1.5136e+00,  4.3875e-01,  2.0786e+00,  4.7312e-01, -3.1734e-01,\n",
       "         -4.9103e-01, -4.9002e-01,  1.8269e+00,  5.4819e-01, -5.5698e-01],\n",
       "        [-3.9478e-01, -7.9241e-01,  5.6530e-01,  1.9842e+00,  1.3171e+00,\n",
       "         -7.4106e-03, -5.6237e-01, -1.8164e-01, -1.0836e+00, -1.8581e-01,\n",
       "         -8.1914e-01,  8.9363e-01, -9.9268e-01, -2.6936e+00,  2.1124e+00,\n",
       "         -1.9816e+00, -8.2911e-01, -1.8142e-01, -1.2429e-01,  1.8242e+00,\n",
       "         -9.4015e-02, -2.9604e-01,  1.3992e+00, -1.7477e+00, -2.9897e+00,\n",
       "          2.5135e-01,  1.4383e+00,  3.2265e-02, -3.2664e-01, -1.9424e+00,\n",
       "         -4.2567e-01,  3.2115e-01, -5.9347e-01,  3.2712e-01,  2.2914e-02,\n",
       "         -3.4575e-01, -3.1209e-01,  9.9971e-02, -1.0355e+00,  3.5945e-01,\n",
       "         -9.2750e-01, -6.9169e-01,  7.6932e-01, -7.6464e-01,  1.9915e-01,\n",
       "          7.0987e-01, -2.6907e-01, -5.7884e-01, -6.4411e-01, -1.1558e+00,\n",
       "         -8.2478e-01,  4.4043e-01,  7.2090e-01,  2.8462e-01, -1.1697e+00,\n",
       "         -1.7928e+00,  5.5544e-01, -6.6018e-01, -1.0783e+00, -9.8531e-01,\n",
       "          4.6191e-02, -5.9727e-01, -1.6945e-01,  1.2475e-03,  9.2479e-01,\n",
       "         -2.8591e-01, -1.3147e+00,  7.2942e-01,  3.2484e-01,  5.9107e-01,\n",
       "          1.9128e-01, -8.8957e-01,  1.4435e+00,  6.2258e-01,  1.7784e-01,\n",
       "         -1.7376e+00, -1.7209e+00,  1.7312e+00, -4.6261e-02,  1.7172e+00,\n",
       "          9.1263e-01,  7.0780e-01,  1.7916e+00,  7.8160e-01, -4.7340e-01,\n",
       "         -3.7075e-01,  4.4067e-01, -5.5080e-01, -6.6968e-01, -1.6274e+00,\n",
       "         -2.7482e-01,  7.1957e-01,  3.6034e-01, -2.1850e+00,  2.4294e-01,\n",
       "          1.3930e+00,  2.0666e+00,  1.7779e-01,  1.5046e-01, -9.1897e-01],\n",
       "        [-7.2053e-01,  5.9476e-01, -5.8290e-01,  1.2439e+00, -7.2408e-01,\n",
       "          6.2858e-02,  8.1720e-01, -3.5465e-01,  2.9839e-01, -1.5376e-01,\n",
       "          4.2823e-01, -6.4632e-02,  1.1030e+00, -3.5228e-01,  4.5103e-01,\n",
       "          2.0327e+00,  1.9083e+00,  2.3905e-01, -7.4521e-01, -2.4523e-01,\n",
       "         -5.9170e-02, -1.2373e+00,  4.9115e-01, -5.4250e-01,  1.2198e-01,\n",
       "          9.6042e-01, -3.8084e-01, -5.8732e-01,  2.1076e-02, -1.3942e+00,\n",
       "         -5.7936e-01, -1.3628e-01,  8.2700e-01, -1.1367e+00,  5.1575e-01,\n",
       "          9.1789e-01,  6.6224e-02,  1.0257e-01,  3.0126e+00,  1.0767e-01,\n",
       "         -1.9170e-01, -3.9431e-01, -2.0997e+00,  1.6268e+00,  1.1629e+00,\n",
       "          9.8983e-01,  4.1025e-01,  1.2381e+00,  7.0569e-01,  1.2978e-01,\n",
       "          1.3402e+00,  6.5229e-01, -4.3903e-02,  1.8251e-01,  6.5170e-01,\n",
       "          1.5257e+00,  4.5975e-01, -1.7069e-01, -2.1126e+00,  9.4294e-01,\n",
       "         -2.2040e-02,  2.7253e-01, -4.4416e-01, -1.5301e+00,  1.4381e+00,\n",
       "         -1.3739e+00, -1.3474e+00, -6.0083e-01, -5.0933e-01,  9.5869e-02,\n",
       "          7.9359e-01, -1.0160e+00, -1.1670e-01,  4.3212e+00, -6.2115e-01,\n",
       "         -9.6432e-01,  4.1081e-01, -9.9908e-01,  9.1223e-01, -3.6340e-01,\n",
       "         -6.9446e-01, -2.3256e+00, -3.6453e-01, -6.7169e-02,  4.8149e-01,\n",
       "          1.1721e+00, -1.3582e+00, -6.2377e-01,  7.5481e-01, -7.0009e-01,\n",
       "          4.0143e-01, -1.3707e+00, -6.0206e-01,  6.2771e-01,  2.0446e+00,\n",
       "          1.3134e+00, -7.7051e-02, -2.2542e+00, -2.0456e+00,  4.6336e-01],\n",
       "        [-1.0521e+00, -1.7682e+00, -1.0466e+00, -3.8647e-01, -3.2364e-01,\n",
       "          6.7090e-01, -1.1976e+00, -1.7702e-02, -2.0773e+00,  3.3258e-01,\n",
       "         -9.0794e-01,  1.3815e+00, -1.8963e+00,  1.6409e+00,  9.0549e-01,\n",
       "         -1.4097e+00,  8.3733e-01,  1.0949e-01, -1.6680e+00,  1.8524e+00,\n",
       "         -1.1207e+00,  2.0124e+00, -5.2838e-01, -4.2073e-01, -1.0643e+00,\n",
       "         -1.1305e+00,  1.1818e+00, -1.3763e+00, -5.8668e-01, -3.5424e-01,\n",
       "          4.2431e-01,  1.4534e+00,  6.5676e-01,  9.2625e-01,  6.0541e-01,\n",
       "          1.8421e-01,  2.1730e+00, -1.5479e+00,  8.7420e-01,  5.6238e-01,\n",
       "         -7.2727e-01, -5.3816e-01,  8.9896e-01,  1.4742e-02,  4.6811e-02,\n",
       "         -1.2811e+00, -1.3033e+00,  1.2874e-01,  2.1925e-01, -6.2453e-01,\n",
       "         -2.9969e-01,  2.1868e+00, -4.7632e-01,  2.4117e-01,  7.1168e-01,\n",
       "         -6.7097e-01,  1.2519e+00,  4.9918e-01, -9.7721e-01,  8.3252e-01,\n",
       "          5.9802e-01,  3.6998e-01,  5.4557e-01,  9.3821e-01,  9.1189e-01,\n",
       "          1.2246e+00,  1.1267e+00,  1.6953e+00,  7.9948e-01,  5.8299e-01,\n",
       "          6.5755e-01, -4.2877e-02, -3.2715e-01, -6.3222e-01, -1.9973e+00,\n",
       "         -8.4262e-03,  1.9655e+00,  3.0722e-01, -7.0931e-01,  1.7673e+00,\n",
       "         -1.0975e+00, -5.7661e-01, -9.8084e-01, -1.4084e+00, -9.3191e-01,\n",
       "         -1.3494e+00,  1.3964e+00, -1.7589e+00, -1.1969e-01,  1.0020e+00,\n",
       "          1.9190e+00,  9.5319e-01, -1.3517e-01, -9.5975e-01,  2.9891e-01,\n",
       "          1.7225e-01,  7.6929e-01, -2.2302e+00,  2.9343e-01, -4.0175e-01],\n",
       "        [-2.1882e+00, -2.8990e-02, -7.2142e-01, -3.8095e-01, -1.8108e+00,\n",
       "         -1.3538e+00,  1.0159e+00, -2.8383e-01,  7.5665e-01, -2.3731e-01,\n",
       "         -1.0124e+00,  1.1506e+00,  1.8710e+00,  1.1960e+00, -1.9948e-01,\n",
       "         -4.2660e-01,  8.2601e-01,  4.2680e-01,  2.2878e+00, -8.7412e-01,\n",
       "         -1.8500e-01,  1.0468e+00,  4.3063e-01, -1.3993e+00, -1.0582e+00,\n",
       "          3.5680e-01, -8.1697e-01, -1.0048e+00,  7.3960e-01, -1.0819e+00,\n",
       "         -9.3734e-01,  5.2310e-01,  7.9990e-01,  2.4666e-01, -6.6099e-02,\n",
       "          2.1174e+00,  1.1641e+00,  6.8793e-01,  1.2337e+00, -9.7895e-01,\n",
       "         -1.2893e+00,  7.5080e-01,  1.4126e-01, -1.6352e+00, -1.5067e+00,\n",
       "          6.3634e-01, -1.4264e-01, -2.0307e-01, -9.5513e-01,  4.0738e-01,\n",
       "          1.3503e+00, -1.5156e+00,  2.1050e-01, -1.6258e+00,  5.6463e-01,\n",
       "         -1.7713e+00, -5.4117e-01, -1.3733e+00,  1.4704e+00,  2.3559e-01,\n",
       "          3.2461e-01, -3.8933e-02, -3.4751e-01, -5.1087e-01, -7.2377e-01,\n",
       "          1.0238e+00,  4.4667e-01, -1.0580e+00, -2.9249e-01, -1.6729e+00,\n",
       "          1.7444e-01, -1.9199e+00,  2.2699e+00,  9.0875e-01,  1.0488e+00,\n",
       "         -7.9259e-02,  7.7914e-01, -2.4604e-01,  5.6694e-02,  4.7220e-01,\n",
       "         -7.9419e-01,  6.4118e-01, -1.2458e+00, -1.3049e+00, -6.2790e-01,\n",
       "          2.9285e+00,  2.9419e-01, -5.5702e-01,  1.9469e-01,  9.1039e-01,\n",
       "         -6.7701e-02,  5.0951e-01, -7.0077e-01, -5.7611e-01,  3.5770e-01,\n",
       "         -1.7350e+00,  6.0245e-01, -1.2417e+00, -1.6526e-01,  7.9021e-01],\n",
       "        [-1.1075e+00, -5.0187e-02,  7.3939e-02,  4.6195e-01,  1.0112e+00,\n",
       "         -2.5415e-01, -5.5563e-02, -2.1786e+00, -1.3485e+00, -2.8975e-01,\n",
       "          4.8146e-02, -1.0848e+00, -8.9323e-01, -7.6364e-01, -1.2318e+00,\n",
       "         -4.5429e-01, -6.1781e-01, -5.6122e-01, -6.3190e-01, -1.1128e+00,\n",
       "         -3.0266e+00, -1.3482e-01, -1.9121e-01, -2.9436e+00, -3.3880e-01,\n",
       "          7.0398e-01,  6.3680e-01,  9.4059e-01, -1.3871e+00, -8.8835e-01,\n",
       "         -2.0894e-02,  4.3809e-01, -6.5374e-01, -3.6858e-01, -2.5123e+00,\n",
       "         -9.5516e-01,  2.4787e+00,  1.3506e-01,  5.1909e-01, -2.2683e+00,\n",
       "         -1.6361e-01, -1.1052e+00, -8.2542e-01, -3.5156e-01,  8.4922e-01,\n",
       "         -1.9656e+00, -1.2123e+00,  2.3626e-01, -4.6015e-01, -2.7993e-01,\n",
       "          1.3365e+00, -1.4939e+00, -1.3738e+00, -4.7509e-01, -2.5573e-01,\n",
       "          1.1959e+00,  1.3020e+00,  6.7917e-01, -1.2469e+00, -1.2482e+00,\n",
       "         -1.4958e-02,  7.5317e-01,  1.0192e+00, -2.0902e+00, -3.8971e-01,\n",
       "         -3.4345e-01,  1.7554e+00,  3.4998e-01,  1.0285e+00,  1.2129e-01,\n",
       "         -1.7533e-01,  1.3712e-01, -1.2066e+00,  1.2372e+00, -6.9685e-01,\n",
       "          3.5580e-03,  1.4707e-01, -2.4702e-01, -9.9873e-02,  5.2172e-01,\n",
       "          4.7531e-01, -7.1664e-01,  2.5693e-01,  9.9259e-02,  1.2407e+00,\n",
       "         -8.6128e-01,  2.2523e-01, -4.4944e-01, -7.6437e-01, -1.4881e+00,\n",
       "         -1.4224e+00, -4.7753e-01, -2.9511e-01, -1.7610e+00, -1.5875e-01,\n",
       "          2.3539e+00,  3.0616e-01, -3.0983e-01,  1.2006e+00,  1.6705e-01]])"
      ]
     },
     "execution_count": 18,
     "metadata": {},
     "output_type": "execute_result"
    }
   ],
   "source": [
    "W1 = torch.randn((6, 100))\n",
    "W1"
   ]
  },
  {
   "cell_type": "code",
   "execution_count": 79,
   "id": "5ecf64f0-4ef8-406f-8daf-006f8164e14e",
   "metadata": {},
   "outputs": [],
   "source": [
    "B1 = torch.randn((100))"
   ]
  },
  {
   "cell_type": "code",
   "execution_count": 80,
   "id": "7c805212-4116-4d7f-856d-d6e317a61c32",
   "metadata": {},
   "outputs": [],
   "source": [
    "#emb @ W + B"
   ]
  },
  {
   "cell_type": "code",
   "execution_count": 81,
   "id": "331ed19f-ec63-4f70-a2f8-69746312b916",
   "metadata": {},
   "outputs": [],
   "source": [
    "#emb[:, 0, :], emb[:, 1, :], emb[:, 2, :]"
   ]
  },
  {
   "cell_type": "code",
   "execution_count": 82,
   "id": "3b843359-4bf1-4975-8a36-2ad2d9545d8f",
   "metadata": {},
   "outputs": [],
   "source": [
    "#torch.cat((emb[:, 0, :], emb[:, 1, :], emb[:, 2, :]), 1)"
   ]
  },
  {
   "cell_type": "code",
   "execution_count": 83,
   "id": "aa14e568-2c50-401d-8f56-6d74de36d831",
   "metadata": {},
   "outputs": [
    {
     "data": {
      "text/plain": [
       "(tensor([[-0.1522, -0.5865],\n",
       "         [-0.1522, -0.5865],\n",
       "         [-0.1522, -0.5865],\n",
       "         ...,\n",
       "         [-0.1976, -0.1979],\n",
       "         [-0.1976, -0.1979],\n",
       "         [ 1.3143,  0.2419]]),\n",
       " tensor([[-0.1522, -0.5865],\n",
       "         [-0.1522, -0.5865],\n",
       "         [ 0.5998, -0.8777],\n",
       "         ...,\n",
       "         [-0.1976, -0.1979],\n",
       "         [ 1.3143,  0.2419],\n",
       "         [-0.1976, -0.1979]]),\n",
       " tensor([[-0.1522, -0.5865],\n",
       "         [ 0.5998, -0.8777],\n",
       "         [ 0.3875, -0.7951],\n",
       "         ...,\n",
       "         [ 1.3143,  0.2419],\n",
       "         [-0.1976, -0.1979],\n",
       "         [ 1.9052,  0.9893]]))"
      ]
     },
     "execution_count": 83,
     "metadata": {},
     "output_type": "execute_result"
    }
   ],
   "source": [
    "torch.unbind(emb, 1)"
   ]
  },
  {
   "cell_type": "code",
   "execution_count": 84,
   "id": "d8a0e678-d3e3-47e4-b3d7-66c982032442",
   "metadata": {},
   "outputs": [
    {
     "data": {
      "text/plain": [
       "tensor([[-0.1522, -0.5865, -0.1522, -0.5865, -0.1522, -0.5865],\n",
       "        [-0.1522, -0.5865, -0.1522, -0.5865,  0.5998, -0.8777],\n",
       "        [-0.1522, -0.5865,  0.5998, -0.8777,  0.3875, -0.7951],\n",
       "        ...,\n",
       "        [-0.1976, -0.1979, -0.1976, -0.1979,  1.3143,  0.2419],\n",
       "        [-0.1976, -0.1979,  1.3143,  0.2419, -0.1976, -0.1979],\n",
       "        [ 1.3143,  0.2419, -0.1976, -0.1979,  1.9052,  0.9893]])"
      ]
     },
     "execution_count": 84,
     "metadata": {},
     "output_type": "execute_result"
    }
   ],
   "source": [
    "torch.cat((torch.unbind(emb, 1)), 1)"
   ]
  },
  {
   "cell_type": "code",
   "execution_count": 85,
   "id": "53064e21-1228-4f7c-992d-14770d35d4ff",
   "metadata": {},
   "outputs": [
    {
     "data": {
      "text/plain": [
       "tensor([ 0,  1,  2,  3,  4,  5,  6,  7,  8,  9, 10, 11, 12, 13, 14, 15, 16, 17])"
      ]
     },
     "execution_count": 85,
     "metadata": {},
     "output_type": "execute_result"
    }
   ],
   "source": [
    "a = torch.arange(18)\n",
    "a"
   ]
  },
  {
   "cell_type": "code",
   "execution_count": 86,
   "id": "6193dbf7-8eaf-45a6-8b60-ea6207a7c7a6",
   "metadata": {},
   "outputs": [
    {
     "data": {
      "text/plain": [
       " 0\n",
       " 1\n",
       " 2\n",
       " 3\n",
       " 4\n",
       " 5\n",
       " 6\n",
       " 7\n",
       " 8\n",
       " 9\n",
       " 10\n",
       " 11\n",
       " 12\n",
       " 13\n",
       " 14\n",
       " 15\n",
       " 16\n",
       " 17\n",
       "[torch.storage.TypedStorage(dtype=torch.int64, device=cpu) of size 18]"
      ]
     },
     "execution_count": 86,
     "metadata": {},
     "output_type": "execute_result"
    }
   ],
   "source": [
    "a.storage()"
   ]
  },
  {
   "cell_type": "code",
   "execution_count": 87,
   "id": "a0c0b578-47cb-43dd-a3d3-8c9629111b14",
   "metadata": {},
   "outputs": [
    {
     "data": {
      "text/plain": [
       "tensor([[ 0,  1],\n",
       "        [ 2,  3],\n",
       "        [ 4,  5],\n",
       "        [ 6,  7],\n",
       "        [ 8,  9],\n",
       "        [10, 11],\n",
       "        [12, 13],\n",
       "        [14, 15],\n",
       "        [16, 17]])"
      ]
     },
     "execution_count": 87,
     "metadata": {},
     "output_type": "execute_result"
    }
   ],
   "source": [
    "a.view(9,2)"
   ]
  },
  {
   "cell_type": "code",
   "execution_count": 88,
   "id": "f3040044-e700-4219-abdf-62430e0d2c2e",
   "metadata": {},
   "outputs": [
    {
     "data": {
      "text/plain": [
       "tensor([[[ 0,  1],\n",
       "         [ 2,  3],\n",
       "         [ 4,  5]],\n",
       "\n",
       "        [[ 6,  7],\n",
       "         [ 8,  9],\n",
       "         [10, 11]],\n",
       "\n",
       "        [[12, 13],\n",
       "         [14, 15],\n",
       "         [16, 17]]])"
      ]
     },
     "execution_count": 88,
     "metadata": {},
     "output_type": "execute_result"
    }
   ],
   "source": [
    "a.view(3,3,2)"
   ]
  },
  {
   "cell_type": "code",
   "execution_count": 89,
   "id": "d1ac7ec9-c9da-4a6d-81f8-4fb3771c71e0",
   "metadata": {},
   "outputs": [
    {
     "data": {
      "text/plain": [
       "tensor([[[-0.1522, -0.5865],\n",
       "         [-0.1522, -0.5865],\n",
       "         [-0.1522, -0.5865]],\n",
       "\n",
       "        [[-0.1522, -0.5865],\n",
       "         [-0.1522, -0.5865],\n",
       "         [ 0.5998, -0.8777]],\n",
       "\n",
       "        [[-0.1522, -0.5865],\n",
       "         [ 0.5998, -0.8777],\n",
       "         [ 0.3875, -0.7951]],\n",
       "\n",
       "        ...,\n",
       "\n",
       "        [[-0.1976, -0.1979],\n",
       "         [-0.1976, -0.1979],\n",
       "         [ 1.3143,  0.2419]],\n",
       "\n",
       "        [[-0.1976, -0.1979],\n",
       "         [ 1.3143,  0.2419],\n",
       "         [-0.1976, -0.1979]],\n",
       "\n",
       "        [[ 1.3143,  0.2419],\n",
       "         [-0.1976, -0.1979],\n",
       "         [ 1.9052,  0.9893]]])"
      ]
     },
     "execution_count": 89,
     "metadata": {},
     "output_type": "execute_result"
    }
   ],
   "source": [
    "emb"
   ]
  },
  {
   "cell_type": "code",
   "execution_count": 90,
   "id": "49a26466-0755-42e4-92a0-57ae70b41984",
   "metadata": {},
   "outputs": [
    {
     "data": {
      "text/plain": [
       "tensor([[-0.1522, -0.5865, -0.1522, -0.5865, -0.1522, -0.5865],\n",
       "        [-0.1522, -0.5865, -0.1522, -0.5865,  0.5998, -0.8777],\n",
       "        [-0.1522, -0.5865,  0.5998, -0.8777,  0.3875, -0.7951],\n",
       "        ...,\n",
       "        [-0.1976, -0.1979, -0.1976, -0.1979,  1.3143,  0.2419],\n",
       "        [-0.1976, -0.1979,  1.3143,  0.2419, -0.1976, -0.1979],\n",
       "        [ 1.3143,  0.2419, -0.1976, -0.1979,  1.9052,  0.9893]])"
      ]
     },
     "execution_count": 90,
     "metadata": {},
     "output_type": "execute_result"
    }
   ],
   "source": [
    "emb.view(-1,6)"
   ]
  },
  {
   "cell_type": "code",
   "execution_count": 91,
   "id": "41d24f53-e93e-4832-944f-d8efbbdc9f4f",
   "metadata": {},
   "outputs": [
    {
     "data": {
      "text/plain": [
       "tensor([[True, True, True, True, True, True],\n",
       "        [True, True, True, True, True, True],\n",
       "        [True, True, True, True, True, True],\n",
       "        ...,\n",
       "        [True, True, True, True, True, True],\n",
       "        [True, True, True, True, True, True],\n",
       "        [True, True, True, True, True, True]])"
      ]
     },
     "execution_count": 91,
     "metadata": {},
     "output_type": "execute_result"
    }
   ],
   "source": [
    "emb.view(-1,6) == torch.cat((torch.unbind(emb, 1)), 1)"
   ]
  },
  {
   "cell_type": "code",
   "execution_count": 92,
   "id": "29f78adf-ad33-40b3-8836-2354e01cd50d",
   "metadata": {},
   "outputs": [],
   "source": [
    "h = emb.view(emb.shape[0],6) @ W1 + B1"
   ]
  },
  {
   "cell_type": "code",
   "execution_count": 93,
   "id": "c250e178-a143-4e7b-93ff-8fdea80cbd37",
   "metadata": {},
   "outputs": [
    {
     "data": {
      "text/plain": [
       "torch.Size([228146, 100])"
      ]
     },
     "execution_count": 93,
     "metadata": {},
     "output_type": "execute_result"
    }
   ],
   "source": [
    "h.shape"
   ]
  },
  {
   "cell_type": "code",
   "execution_count": 94,
   "id": "d4116765-2461-4df9-92b5-0df3d94d3672",
   "metadata": {},
   "outputs": [],
   "source": [
    "h = torch.tanh(emb.view(-1,6) @ W1 + B1)"
   ]
  },
  {
   "cell_type": "code",
   "execution_count": 95,
   "id": "7b495423-e7d3-49c7-92b2-956a5265d95a",
   "metadata": {},
   "outputs": [
    {
     "data": {
      "text/plain": [
       "torch.Size([228146, 100])"
      ]
     },
     "execution_count": 95,
     "metadata": {},
     "output_type": "execute_result"
    }
   ],
   "source": [
    "h.shape"
   ]
  },
  {
   "cell_type": "code",
   "execution_count": 96,
   "id": "429e19b8-2c3b-457c-af86-a62c46669940",
   "metadata": {},
   "outputs": [],
   "source": [
    "W2= torch.randn(100, 27)\n",
    "B2= torch.randn(27)"
   ]
  },
  {
   "cell_type": "code",
   "execution_count": 97,
   "id": "de00863d-7695-452f-a14b-ffdd6e072459",
   "metadata": {},
   "outputs": [],
   "source": [
    "logits = h @  W2 + B2\n",
    "counts = logits.exp()\n",
    "probs = counts/counts.sum(1, keepdims=True)"
   ]
  },
  {
   "cell_type": "code",
   "execution_count": 98,
   "id": "b73010ac-e778-4359-9237-8420a90df548",
   "metadata": {},
   "outputs": [
    {
     "data": {
      "text/plain": [
       "torch.Size([228146, 27])"
      ]
     },
     "execution_count": 98,
     "metadata": {},
     "output_type": "execute_result"
    }
   ],
   "source": [
    "probs.shape"
   ]
  },
  {
   "cell_type": "code",
   "execution_count": 99,
   "id": "973172b9-87bf-47e9-b876-9c9ed86f1180",
   "metadata": {},
   "outputs": [
    {
     "data": {
      "text/plain": [
       "torch.Size([228146])"
      ]
     },
     "execution_count": 99,
     "metadata": {},
     "output_type": "execute_result"
    }
   ],
   "source": [
    "Y.shape"
   ]
  },
  {
   "cell_type": "code",
   "execution_count": 100,
   "id": "a7a9a1a8-bee8-4248-899a-676555829e06",
   "metadata": {},
   "outputs": [
    {
     "data": {
      "text/plain": [
       "tensor(12.6670)"
      ]
     },
     "execution_count": 100,
     "metadata": {},
     "output_type": "execute_result"
    }
   ],
   "source": [
    "-probs[torch.arange(228146), Y].log().mean()"
   ]
  },
  {
   "cell_type": "code",
   "execution_count": 101,
   "id": "69e93330-8642-4784-bcd1-3985766926bd",
   "metadata": {},
   "outputs": [],
   "source": [
    "loss = F.cross_entropy(logits, Y)"
   ]
  },
  {
   "cell_type": "code",
   "execution_count": 102,
   "id": "1868896a-fe32-447a-8262-e127904877ec",
   "metadata": {},
   "outputs": [
    {
     "data": {
      "text/plain": [
       "tensor(12.6670)"
      ]
     },
     "execution_count": 102,
     "metadata": {},
     "output_type": "execute_result"
    }
   ],
   "source": [
    "loss"
   ]
  },
  {
   "cell_type": "code",
   "execution_count": 146,
   "id": "c63d8c80-5ff8-4f68-a869-bbaa55995296",
   "metadata": {},
   "outputs": [],
   "source": [
    "g = torch.Generator().manual_seed(2147483647)\n",
    "C = torch.randn((27,10), generator=g)\n",
    "W1 = torch.randn((30, 200), generator=g)\n",
    "B1 = torch.randn((200), generator=g)\n",
    "W2 = torch.randn((200, 27), generator=g)\n",
    "B2 = torch.randn((27), generator=g)\n",
    "parameters = [C, W1, B1, W2, B2]"
   ]
  },
  {
   "cell_type": "code",
   "execution_count": 147,
   "id": "7b8d2dec-bd46-4e46-b3a1-3ee895e90939",
   "metadata": {},
   "outputs": [
    {
     "data": {
      "text/plain": [
       "11897"
      ]
     },
     "execution_count": 147,
     "metadata": {},
     "output_type": "execute_result"
    }
   ],
   "source": [
    "sum(p.nelement() for p in parameters)"
   ]
  },
  {
   "cell_type": "code",
   "execution_count": 148,
   "id": "bcd00222-cbc5-440d-abbb-e59cfccf208a",
   "metadata": {},
   "outputs": [],
   "source": [
    "for p in parameters:\n",
    "    p.requires_grad = True"
   ]
  },
  {
   "cell_type": "code",
   "execution_count": 149,
   "id": "add0ec71-bab6-4e10-b6ad-54a187e05566",
   "metadata": {},
   "outputs": [],
   "source": [
    "lre = torch.linspace(-3, 0, 1000)\n",
    "lrs = 10**lre"
   ]
  },
  {
   "cell_type": "code",
   "execution_count": 157,
   "id": "b1d93841-ecfa-488e-94dd-b8aaad7130af",
   "metadata": {},
   "outputs": [
    {
     "name": "stdout",
     "output_type": "stream",
     "text": [
      "2.179572343826294\n"
     ]
    }
   ],
   "source": [
    "lri =[]\n",
    "lossi = []\n",
    "stepi = []\n",
    "\n",
    "for i in range(50000):\n",
    "    #minibatch\n",
    "    ix = torch.randint(0,Xtr.shape[0], (32,))\n",
    "\n",
    "    #forward pass\n",
    "    emb = C[Xtr[ix]]\n",
    "    h = torch.tanh(emb.view(-1, 30) @  W1 + B1)\n",
    "    logits = h @ W2 + B2\n",
    "    loss = F.cross_entropy(logits, Ytr[ix])\n",
    "    #print(loss.item())\n",
    "    #backward pass\n",
    "    for p in parameters:\n",
    "        p.grad  = None\n",
    "    loss.backward()\n",
    "\n",
    "    #update\n",
    "    #lr  = lrs[i]\n",
    "    lr = 0.01\n",
    "    for p in parameters:\n",
    "        p.data -= lr*p.grad\n",
    "    stepi.append(i)\n",
    "    #lri.append(lre[i])\n",
    "    lossi.append(loss.item())\n",
    "print(loss.item())"
   ]
  },
  {
   "cell_type": "code",
   "execution_count": 151,
   "id": "18a82467-4644-453a-b76b-80c53e4b691f",
   "metadata": {},
   "outputs": [
    {
     "data": {
      "text/plain": [
       "[<matplotlib.lines.Line2D at 0x1f294422850>]"
      ]
     },
     "execution_count": 151,
     "metadata": {},
     "output_type": "execute_result"
    },
    {
     "data": {
      "image/png": "[encoded data removed]",
      "text/plain": [
       "<Figure size 640x480 with 1 Axes>"
      ]
     },
     "metadata": {},
     "output_type": "display_data"
    }
   ],
   "source": [
    "plt.plot(stepi, lossi)"
   ]
  },
  {
   "cell_type": "code",
   "execution_count": 152,
   "id": "38e613e8-6dd7-4717-8bfa-a801731207a9",
   "metadata": {},
   "outputs": [
    {
     "name": "stdout",
     "output_type": "stream",
     "text": [
      "2.417783737182617\n"
     ]
    }
   ],
   "source": [
    "emb = C[X]\n",
    "h = torch.tanh(emb.view(-1, 30) @  W1 + B1)\n",
    "logits = h @ W2 + B2\n",
    "loss = F.cross_entropy(logits, Y)\n",
    "print(loss.item())"
   ]
  },
  {
   "cell_type": "code",
   "execution_count": null,
   "id": "84c67436-b230-44d2-b65a-acc68c5fc447",
   "metadata": {},
   "outputs": [],
   "source": [
    "logits.max(1)"
   ]
  },
  {
   "cell_type": "code",
   "execution_count": null,
   "id": "28a819ae-f3d0-43c3-9afc-889ab0c982d6",
   "metadata": {},
   "outputs": [],
   "source": [
    "torch.randint(0, X.shape[0], (32,))"
   ]
  },
  {
   "cell_type": "code",
   "execution_count": 158,
   "id": "0bcadf6f-3ad2-4ee1-883d-d164ce731c28",
   "metadata": {},
   "outputs": [
    {
     "name": "stdout",
     "output_type": "stream",
     "text": [
      "2.275864362716675\n"
     ]
    }
   ],
   "source": [
    "emb = C[Xtr]\n",
    "h = torch.tanh(emb.view(-1, 30) @  W1 + B1)\n",
    "logits = h @ W2 + B2\n",
    "loss = F.cross_entropy(logits, Ytr)\n",
    "print(loss.item())"
   ]
  },
  {
   "cell_type": "code",
   "execution_count": 160,
   "id": "1980824f-d009-4252-9346-f77e0d470fb7",
   "metadata": {},
   "outputs": [
    {
     "name": "stdout",
     "output_type": "stream",
     "text": [
      "2.289673328399658\n"
     ]
    }
   ],
   "source": [
    "emb = C[Xval]\n",
    "h = torch.tanh(emb.view(-1, 30) @  W1 + B1)\n",
    "logits = h @ W2 + B2\n",
    "loss = F.cross_entropy(logits, Yval)\n",
    "print(loss.item())"
   ]
  },
  {
   "cell_type": "code",
   "execution_count": 161,
   "id": "be5459eb-4d54-4956-a332-9097e8c061d3",
   "metadata": {},
   "outputs": [
    {
     "name": "stdout",
     "output_type": "stream",
     "text": [
      "2.2907207012176514\n"
     ]
    }
   ],
   "source": [
    "emb = C[Xte]\n",
    "h = torch.tanh(emb.view(-1, 30) @  W1 + B1)\n",
    "logits = h @ W2 + B2\n",
    "loss = F.cross_entropy(logits, Yte)\n",
    "print(loss.item())"
   ]
  },
  {
   "cell_type": "code",
   "execution_count": 145,
   "id": "d7da1d82-3e3c-4a39-9cd3-d178b605be03",
   "metadata": {},
   "outputs": [
    {
     "data": {
      "image/png": "[encoded data removed]",
      "text/plain": [
       "<Figure size 800x800 with 1 Axes>"
      ]
     },
     "metadata": {},
     "output_type": "display_data"
    }
   ],
   "source": [
    "plt.figure(figsize=(8,8))\n",
    "plt.scatter(C[:, 0].data,  C[:, 1].data, s=200)\n",
    "for i in range(C.shape[0]):\n",
    "    plt.text(C[i, 0].item(), C[i, 1].item(), itos[i], ha = \"center\", va = \"center\", color = \"white\")\n",
    "plt.grid('minor')"
   ]
  },
  {
   "cell_type": "code",
   "execution_count": 171,
   "id": "9be3e5bb-5c4e-4e40-ae35-0655b9a15f83",
   "metadata": {},
   "outputs": [
    {
     "name": "stdout",
     "output_type": "stream",
     "text": [
      "elli\n",
      "ayamarslynne\n",
      "bestenie\n",
      "adiah\n",
      "alasei\n",
      "bannaudly\n",
      "loanlevio\n",
      "sallisy\n",
      "twaysa\n",
      "day\n",
      "twacja\n",
      "lowien\n",
      "venarasnain\n",
      "uriellyrniata\n",
      "telynniah\n",
      "aliyla\n",
      "hargielan\n",
      "rohmahe\n",
      "rixanco\n",
      "see\n"
     ]
    }
   ],
   "source": [
    "for _ in range(20):\n",
    "    out =[]\n",
    "    context  = [0]*block_size\n",
    "    while True:\n",
    "        emb = C[torch.tensor([context])]\n",
    "        h = torch.tanh(emb.view(1, -1) @ W1 + B1)\n",
    "        logits = h @ W2 + B2\n",
    "        prob = F.softmax(logits, dim=1)\n",
    "        ix = torch.multinomial(prob, num_samples=1).item()\n",
    "        context = context[1:] + [ix]\n",
    "        if ix==0:\n",
    "            break\n",
    "        out.append(itos[ix])\n",
    "\n",
    "    print(''.join(i for i in out))"
   ]
  }
 ],
 "metadata": {
  "kernelspec": {
   "display_name": "Python 3 (ipykernel)",
   "language": "python",
   "name": "python3"
  },
  "language_info": {
   "codemirror_mode": {
    "name": "ipython",
    "version": 3
   },
   "file_extension": ".py",
   "mimetype": "text/x-python",
   "name": "python",
   "nbconvert_exporter": "python",
   "pygments_lexer": "ipython3",
   "version": "3.13.0"
  }
 },
 "nbformat": 4,
 "nbformat_minor": 5
}
